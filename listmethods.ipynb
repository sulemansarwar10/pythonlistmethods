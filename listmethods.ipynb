{
 "cells": [
  {
   "cell_type": "markdown",
   "metadata": {},
   "source": [
    "# Roll#  PIAIC59391"
   ]
  },
  {
   "cell_type": "markdown",
   "metadata": {},
   "source": [
    "\n",
    "In this assignment, you will explore and document various methods associated with the Python list data structure. You will provide explanations for each method, include examples of their usage, and specify the return type of each method.Instructions:\n",
    "Research and List: Identify and list the common methods available for Python lists. For each method, provide the following:\n",
    "Description: A brief explanation of what the method does.\n",
    "Syntax: How the method is used, including its parameters.\n",
    "Return Type: Specify what type of value the method returns (e.g., None, a new list, a boolean, etc.).\n",
    "Methods to Cover: Ensure your document includes, but is not limited to, the following methods:\n",
    "\n",
    "append()\n",
    "extend()\n",
    "insert()\n",
    "remove()\n",
    "pop()\n",
    "clear()\n",
    "index()\n",
    "count()\n",
    "sort()\n",
    "reverse()\n",
    "copy()\n",
    "\n",
    "\n",
    "Create the Document: Use Google Docs or Microsoft Word to create your document.\n"
   ]
  },
  {
   "cell_type": "markdown",
   "metadata": {},
   "source": [
    "# 1) append() takes one argument to add new item in list. it will add at the end of list & returns none. check following example."
   ]
  },
  {
   "cell_type": "code",
   "execution_count": 70,
   "metadata": {},
   "outputs": [
    {
     "name": "stdout",
     "output_type": "stream",
     "text": [
      "None\n",
      "['suleman', 'ali', 'farooq', 'new']\n"
     ]
    }
   ],
   "source": [
    "name:str=[\"suleman\",\"ali\",\"farooq\"]\n",
    "print(name.append(\"new\"))\n",
    "print(name)"
   ]
  },
  {
   "cell_type": "markdown",
   "metadata": {},
   "source": [
    "# 2) extend() takes one argument (should be iterable) to add items in list. it will also add at the end of list & returns none. mostly it is used to add multiple items in a list. check example"
   ]
  },
  {
   "cell_type": "code",
   "execution_count": 71,
   "metadata": {},
   "outputs": [
    {
     "data": {
      "text/plain": [
       "['suleman', 'ali', 'farooq', 'new1', 'new2']"
      ]
     },
     "execution_count": 71,
     "metadata": {},
     "output_type": "execute_result"
    }
   ],
   "source": [
    "name:str=[\"suleman\",\"ali\",\"farooq\"]\n",
    "name.extend([\"new1\",\"new2\"])\n",
    "name"
   ]
  },
  {
   "cell_type": "markdown",
   "metadata": {},
   "source": [
    "# 3) insert() takes two argument (index,value). it will add value at specified index in a list & returns nothing.check example"
   ]
  },
  {
   "cell_type": "code",
   "execution_count": 72,
   "metadata": {},
   "outputs": [
    {
     "data": {
      "text/plain": [
       "['suleman', 'special', 'ali', 'farooq']"
      ]
     },
     "execution_count": 72,
     "metadata": {},
     "output_type": "execute_result"
    }
   ],
   "source": [
    "name:str=[\"suleman\",\"ali\",\"farooq\"]\n",
    "name.insert(1,\"special\")\n",
    "name"
   ]
  },
  {
   "cell_type": "markdown",
   "metadata": {},
   "source": [
    "# 4) remove() takes one one argument to remove from list.if the value exists in a list then it will remove (first occurance) from the list. it returns nothing check following example."
   ]
  },
  {
   "cell_type": "code",
   "execution_count": 79,
   "metadata": {},
   "outputs": [
    {
     "data": {
      "text/plain": [
       "['ali', 'farooq', 'suleman']"
      ]
     },
     "execution_count": 79,
     "metadata": {},
     "output_type": "execute_result"
    }
   ],
   "source": [
    "name:str=[\"suleman\",\"ali\",\"farooq\",\"suleman\"]\n",
    "name.remove(\"suleman\")\n",
    "name"
   ]
  },
  {
   "cell_type": "markdown",
   "metadata": {},
   "source": [
    "# 5) pop() is used to remove item at last index if we give argument in form if index then it will remove item at specified index. & returns nothing. check following example"
   ]
  },
  {
   "cell_type": "code",
   "execution_count": 82,
   "metadata": {},
   "outputs": [
    {
     "name": "stdout",
     "output_type": "stream",
     "text": [
      "['suleman', 'ali', 'farooq', 'omer']\n"
     ]
    },
    {
     "data": {
      "text/plain": [
       "['suleman', 'farooq', 'omer']"
      ]
     },
     "execution_count": 82,
     "metadata": {},
     "output_type": "execute_result"
    }
   ],
   "source": [
    "name:str=[\"suleman\",\"ali\",\"farooq\",\"omer\",\"awaise\"]\n",
    "name.pop()\n",
    "print(name)\n",
    "name.pop(1)\n",
    "name"
   ]
  },
  {
   "cell_type": "markdown",
   "metadata": {},
   "source": [
    "# 6) clear() is used to remove all items in the list & returns nothing. check following example"
   ]
  },
  {
   "cell_type": "code",
   "execution_count": 84,
   "metadata": {},
   "outputs": [
    {
     "name": "stdout",
     "output_type": "stream",
     "text": [
      "None\n"
     ]
    },
    {
     "data": {
      "text/plain": [
       "[]"
      ]
     },
     "execution_count": 84,
     "metadata": {},
     "output_type": "execute_result"
    }
   ],
   "source": [
    "name:str=[\"suleman\",\"ali\",\"farooq\",\"omer\",\"awaise\"]\n",
    "name.clear()\n",
    "name"
   ]
  },
  {
   "cell_type": "markdown",
   "metadata": {},
   "source": [
    "# 7) index() is used to check whether the given value exists in the list. if the given value exists in the list it will return  the index (first occurance) of the value"
   ]
  },
  {
   "cell_type": "code",
   "execution_count": 100,
   "metadata": {},
   "outputs": [
    {
     "data": {
      "text/plain": [
       "1"
      ]
     },
     "execution_count": 100,
     "metadata": {},
     "output_type": "execute_result"
    }
   ],
   "source": [
    "name:str=[\"suleman\",\"ali\",\"farooq\",\"omer\",\"awaise\",\"ali\"]\n",
    "name.index(\"ali\")\n"
   ]
  },
  {
   "cell_type": "markdown",
   "metadata": {},
   "source": [
    "# 8) count() is return the total number of occurance of specific value in the list. check following example "
   ]
  },
  {
   "cell_type": "code",
   "execution_count": 99,
   "metadata": {},
   "outputs": [
    {
     "data": {
      "text/plain": [
       "2"
      ]
     },
     "execution_count": 99,
     "metadata": {},
     "output_type": "execute_result"
    }
   ],
   "source": [
    "name:str=[\"suleman\",\"ali\",\"farooq\",\"omer\",\"awaise\",\"ali\"]\n",
    "name.count(\"ali\")"
   ]
  },
  {
   "cell_type": "markdown",
   "metadata": {},
   "source": [
    "# 9) sort() is used to arrange the values in alphabetically. it returns nothing check following example"
   ]
  },
  {
   "cell_type": "code",
   "execution_count": 107,
   "metadata": {},
   "outputs": [
    {
     "data": {
      "text/plain": [
       "['ali', 'ali', 'awaise', 'farooq', 'omer', 'suleman']"
      ]
     },
     "execution_count": 107,
     "metadata": {},
     "output_type": "execute_result"
    }
   ],
   "source": [
    "name:str=[\"suleman\",\"ali\",\"farooq\",\"omer\",\"awaise\",\"ali\"]\n",
    "name.sort()\n",
    "name"
   ]
  },
  {
   "cell_type": "markdown",
   "metadata": {},
   "source": [
    "# 10) reverse() is used to arranges the value of list in reverse order. check following example. it returns nothing."
   ]
  },
  {
   "cell_type": "code",
   "execution_count": 110,
   "metadata": {},
   "outputs": [
    {
     "data": {
      "text/plain": [
       "['ali', 'awaise', 'omer', 'farooq', 'ali', 'suleman']"
      ]
     },
     "execution_count": 110,
     "metadata": {},
     "output_type": "execute_result"
    }
   ],
   "source": [
    "name:str=[\"suleman\",\"ali\",\"farooq\",\"omer\",\"awaise\",\"ali\"]\n",
    "name.reverse()\n",
    "name"
   ]
  },
  {
   "cell_type": "markdown",
   "metadata": {},
   "source": [
    "# 11) copy() is used to copy all values of list in new variable.check following example."
   ]
  },
  {
   "cell_type": "code",
   "execution_count": 112,
   "metadata": {},
   "outputs": [
    {
     "data": {
      "text/plain": [
       "['suleman', 'ali', 'farooq', 'omer', 'awaise', 'ali']"
      ]
     },
     "execution_count": 112,
     "metadata": {},
     "output_type": "execute_result"
    }
   ],
   "source": [
    "name:str=[\"suleman\",\"ali\",\"farooq\",\"omer\",\"awaise\",\"ali\"]\n",
    "newlist:str=name.copy()\n",
    "newlist\n"
   ]
  }
 ],
 "metadata": {
  "kernelspec": {
   "display_name": "Python 3",
   "language": "python",
   "name": "python3"
  },
  "language_info": {
   "codemirror_mode": {
    "name": "ipython",
    "version": 3
   },
   "file_extension": ".py",
   "mimetype": "text/x-python",
   "name": "python",
   "nbconvert_exporter": "python",
   "pygments_lexer": "ipython3",
   "version": "3.12.3"
  }
 },
 "nbformat": 4,
 "nbformat_minor": 2
}
